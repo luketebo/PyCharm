{
 "cells": [
  {
   "cell_type": "code",
   "execution_count": 1,
   "metadata": {
    "collapsed": true
   },
   "outputs": [
    {
     "name": "stdout",
     "output_type": "stream",
     "text": [
      "[[ 1  2  3  4]\n",
      " [ 5  6  7  8]\n",
      " [ 9 10 11 12]]\n"
     ]
    }
   ],
   "source": [
    "import numpy as np\n",
    "\n",
    "A = np.mat([[1, 2, 3, 4], [5, 6, 7, 8], [9, 10, 11, 12]])\n",
    "\n",
    "print(A)"
   ]
  },
  {
   "cell_type": "code",
   "execution_count": 2,
   "outputs": [
    {
     "name": "stdout",
     "output_type": "stream",
     "text": [
      "U [[-0.20673589 -0.88915331  0.40824829]\n",
      " [-0.51828874 -0.25438183 -0.81649658]\n",
      " [-0.82984158  0.38038964  0.40824829]]\n",
      "sigma [2.54368356e+01 1.72261225e+00 5.14037515e-16]\n",
      "VT [[-0.40361757 -0.46474413 -0.52587069 -0.58699725]\n",
      " [ 0.73286619  0.28984978 -0.15316664 -0.59618305]\n",
      " [ 0.44527162 -0.83143156  0.32704826  0.05911168]\n",
      " [ 0.3189564  -0.09338934 -0.77009054  0.54452347]]\n"
     ]
    }
   ],
   "source": [
    "U, sigma, VT = np.linalg.svd(A)\n",
    "\n",
    "print(\"U\", U)\n",
    "print(\"sigma\", sigma)\n",
    "print(\"VT\", VT)"
   ],
   "metadata": {
    "collapsed": false
   }
  },
  {
   "cell_type": "code",
   "execution_count": 3,
   "outputs": [
    {
     "name": "stdout",
     "output_type": "stream",
     "text": [
      "[[25.43683563]]\n",
      "[[-0.20673589]\n",
      " [-0.51828874]\n",
      " [-0.82984158]]\n",
      "[[-0.40361757 -0.46474413 -0.52587069 -0.58699725]]\n"
     ]
    }
   ],
   "source": [
    "sigma_c = np.diag(sigma[0:1])\n",
    "U_c = U[:, 0:1]\n",
    "VT_c = VT[0:1, :]\n",
    "\n",
    "print(sigma_c)\n",
    "print(U_c)\n",
    "print(VT_c)\n"
   ],
   "metadata": {
    "collapsed": false
   }
  },
  {
   "cell_type": "code",
   "execution_count": 4,
   "outputs": [
    {
     "name": "stdout",
     "output_type": "stream",
     "text": [
      "conv A [[ 2.12250651  2.44395316  2.76539981  3.08684646]\n",
      " [ 5.32114289  6.12701254  6.93288219  7.73875183]\n",
      " [ 8.51977928  9.81007192 11.10036456 12.3906572 ]]\n"
     ]
    }
   ],
   "source": [
    "print(\"conv A\", U_c * sigma_c * VT_c)"
   ],
   "metadata": {
    "collapsed": false
   }
  },
  {
   "cell_type": "code",
   "execution_count": 5,
   "outputs": [
    {
     "name": "stdout",
     "output_type": "stream",
     "text": [
      "[[ -5.25870689]\n",
      " [-13.18362544]\n",
      " [-21.10854399]]\n",
      "[[ -5.25870689]\n",
      " [-13.18362544]\n",
      " [-21.10854399]]\n"
     ]
    }
   ],
   "source": [
    "# 降维\n",
    "print(A * VT_c.T)\n",
    "print(U_c * sigma_c)"
   ],
   "metadata": {
    "collapsed": false
   }
  }
 ],
 "metadata": {
  "kernelspec": {
   "display_name": "Python 3",
   "language": "python",
   "name": "python3"
  },
  "language_info": {
   "codemirror_mode": {
    "name": "ipython",
    "version": 2
   },
   "file_extension": ".py",
   "mimetype": "text/x-python",
   "name": "python",
   "nbconvert_exporter": "python",
   "pygments_lexer": "ipython2",
   "version": "2.7.6"
  }
 },
 "nbformat": 4,
 "nbformat_minor": 0
}
