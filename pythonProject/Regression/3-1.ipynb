{
 "cells": [
  {
   "cell_type": "code",
   "execution_count": null,
   "metadata": {
    "collapsed": true
   },
   "outputs": [],
   "source": [
    "temperatures = [10, 15, 20, 25, 30, 35]\n",
    "insects = [39, 42, 50, 57, 58, 65]\n",
    "\n",
    "import numpy as np\n",
    "def least_square(X, Y):\n",
    "    W = (X * X.T).I * X * Y.T\n",
    "    return W\n",
    "\n",
    "X = np.mat([[1, 1, 1, 1, 1, 1], temperatures])"
   ]
  }
 ],
 "metadata": {
  "kernelspec": {
   "display_name": "Python 3",
   "language": "python",
   "name": "python3"
  },
  "language_info": {
   "codemirror_mode": {
    "name": "ipython",
    "version": 2
   },
   "file_extension": ".py",
   "mimetype": "text/x-python",
   "name": "python",
   "nbconvert_exporter": "python",
   "pygments_lexer": "ipython2",
   "version": "2.7.6"
  }
 },
 "nbformat": 4,
 "nbformat_minor": 0
}
